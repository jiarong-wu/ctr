{
 "cells": [
  {
   "cell_type": "code",
   "execution_count": null,
   "id": "8819c63c",
   "metadata": {},
   "outputs": [],
   "source": []
  },
  {
   "cell_type": "code",
   "execution_count": null,
   "id": "fe969e66",
   "metadata": {},
   "outputs": [],
   "source": [
    "case1 = Case(ustar=0.25, Retau=720, Bo=200, g=1, ak=0.15, LEVEL=10, emax=0.3, alterMU=16, NOMATCH=True, \n",
    "             PRINTWAVE=True, OUTLEVEL=9, working_dir='/projects/DEIKE/jiarongw/turbulence/rerun/', prefix='curved_fixREtau_boundary_')\n",
    "case1.tstart = 44"
   ]
  },
  {
   "cell_type": "code",
   "execution_count": null,
   "id": "2f31b018",
   "metadata": {},
   "outputs": [],
   "source": []
  },
  {
   "cell_type": "code",
   "execution_count": null,
   "id": "264886bf",
   "metadata": {},
   "outputs": [],
   "source": []
  },
  {
   "cell_type": "code",
   "execution_count": 1,
   "id": "ac918e5c",
   "metadata": {},
   "outputs": [],
   "source": [
    "from ww.defs import Case, Interface2D\n",
    "import numpy as np\n",
    "from ww.prepare import read_p, read_fields\n",
    "from ww.phase import extract_phase\n",
    "import os\n",
    "from matplotlib import pyplot as plt\n",
    "import xarray as xr\n",
    "import pandas as pd\n",
    "\n",
    "%load_ext autoreload\n",
    "%autoreload 3"
   ]
  },
  {
   "cell_type": "code",
   "execution_count": 2,
   "id": "4bd172e1",
   "metadata": {},
   "outputs": [],
   "source": [
    "case_pre1 = Case(ustar=0.25, Retau=720, Bo=None, g=None, ak=0.2, LEVEL=10, emax=0.3, OUTLEVEL=9, PRECURSOR=True,\n",
    "                 working_dir='/projects/DEIKE/jiarongw/turbulence/', prefix='curved_fixREtau_precursor_')\n",
    "case_pre1.tstart = 53"
   ]
  },
  {
   "cell_type": "code",
   "execution_count": 13,
   "id": "0aac89a9",
   "metadata": {
    "scrolled": true
   },
   "outputs": [
    {
     "name": "stdout",
     "output_type": "stream",
     "text": [
      "pickle restored!\n"
     ]
    },
    {
     "name": "stderr",
     "output_type": "stream",
     "text": [
      "\r",
      "  0%|          | 0/11 [00:00<?, ?it/s]"
     ]
    },
    {
     "name": "stdout",
     "output_type": "stream",
     "text": [
      "53\n",
      "pickle restored!\n",
      "pickle restored!\n",
      "pickle restored!\n"
     ]
    },
    {
     "name": "stderr",
     "output_type": "stream",
     "text": [
      "\r",
      "  9%|▉         | 1/11 [00:06<01:02,  6.25s/it]"
     ]
    },
    {
     "name": "stdout",
     "output_type": "stream",
     "text": [
      "54\n",
      "pickle restored!\n",
      "pickle restored!\n",
      "pickle restored!\n"
     ]
    },
    {
     "name": "stderr",
     "output_type": "stream",
     "text": [
      "\r",
      " 18%|█▊        | 2/11 [00:17<01:22,  9.17s/it]"
     ]
    },
    {
     "name": "stdout",
     "output_type": "stream",
     "text": [
      "55\n",
      "pickle restored!\n",
      "pickle restored!\n",
      "pickle restored!\n"
     ]
    },
    {
     "name": "stderr",
     "output_type": "stream",
     "text": [
      "\r",
      " 27%|██▋       | 3/11 [00:28<01:20, 10.11s/it]"
     ]
    },
    {
     "name": "stdout",
     "output_type": "stream",
     "text": [
      "56\n",
      "pickle restored!\n",
      "pickle restored!\n",
      "pickle restored!\n"
     ]
    },
    {
     "name": "stderr",
     "output_type": "stream",
     "text": [
      "\r",
      " 36%|███▋      | 4/11 [00:39<01:13, 10.52s/it]"
     ]
    },
    {
     "name": "stdout",
     "output_type": "stream",
     "text": [
      "57\n",
      "pickle restored!\n",
      "pickle restored!\n",
      "pickle restored!\n"
     ]
    },
    {
     "name": "stderr",
     "output_type": "stream",
     "text": [
      "\r",
      " 45%|████▌     | 5/11 [00:51<01:05, 10.85s/it]"
     ]
    },
    {
     "name": "stdout",
     "output_type": "stream",
     "text": [
      "58\n",
      "pickle restored!\n",
      "pickle restored!\n",
      "pickle restored!\n"
     ]
    },
    {
     "name": "stderr",
     "output_type": "stream",
     "text": [
      "\r",
      " 55%|█████▍    | 6/11 [01:02<00:55, 11.02s/it]"
     ]
    },
    {
     "name": "stdout",
     "output_type": "stream",
     "text": [
      "59\n",
      "pickle restored!\n",
      "pickle restored!\n",
      "pickle restored!\n"
     ]
    },
    {
     "name": "stderr",
     "output_type": "stream",
     "text": [
      "\r",
      " 64%|██████▎   | 7/11 [01:13<00:44, 11.09s/it]"
     ]
    },
    {
     "name": "stdout",
     "output_type": "stream",
     "text": [
      "60\n",
      "pickle restored!\n",
      "pickle restored!\n",
      "pickle restored!\n"
     ]
    },
    {
     "name": "stderr",
     "output_type": "stream",
     "text": [
      "\r",
      " 73%|███████▎  | 8/11 [01:24<00:33, 11.10s/it]"
     ]
    },
    {
     "name": "stdout",
     "output_type": "stream",
     "text": [
      "61\n",
      "pickle restored!\n",
      "pickle restored!\n",
      "pickle restored!\n"
     ]
    },
    {
     "name": "stderr",
     "output_type": "stream",
     "text": [
      "\r",
      " 82%|████████▏ | 9/11 [01:36<00:22, 11.14s/it]"
     ]
    },
    {
     "name": "stdout",
     "output_type": "stream",
     "text": [
      "62\n",
      "pickle restored!\n",
      "pickle restored!\n",
      "pickle restored!\n"
     ]
    },
    {
     "name": "stderr",
     "output_type": "stream",
     "text": [
      "\r",
      " 91%|█████████ | 10/11 [01:47<00:11, 11.20s/it]"
     ]
    },
    {
     "name": "stdout",
     "output_type": "stream",
     "text": [
      "63\n",
      "pickle restored!\n",
      "pickle restored!\n",
      "pickle restored!\n"
     ]
    },
    {
     "name": "stderr",
     "output_type": "stream",
     "text": [
      "100%|██████████| 11/11 [01:59<00:00, 10.82s/it]\n"
     ]
    }
   ],
   "source": [
    "case = case_pre1\n",
    "\n",
    "case.tsimu = np.arange(53,64)\n",
    "extract_phase(case, case.tsimu, PRE=True)\n",
    "case.field_t = np.arange(53,64) - case.tstart\n",
    "read_fields(case)"
   ]
  },
  {
   "cell_type": "code",
   "execution_count": 5,
   "id": "76f039a1",
   "metadata": {},
   "outputs": [
    {
     "name": "stdout",
     "output_type": "stream",
     "text": [
      "pickle restored!\n"
     ]
    }
   ],
   "source": [
    "\"\"\"NOTICE: to accomodate different pickle versions\"\"\"\n",
    "from ww.prepare import load_object\n",
    "\n",
    "case = case_pre1\n",
    "ux_3D = {'name':'ux', 'value':[]}\n",
    "field = ux_3D\n",
    "tsimu = 60\n",
    "\n",
    "picklename = case.path + 'field/' + 'pickle_tiger/' + field['name'] +'_t%g' % tsimu +'.pkl'\n",
    "exists = os.path.exists(picklename)\n",
    "# If the pickle is there read in the pickles\n",
    "if exists:\n",
    "    field['value'] = load_object(picklename)\n",
    "    print('pickle restored!')"
   ]
  },
  {
   "cell_type": "code",
   "execution_count": 15,
   "id": "5c6313a4",
   "metadata": {},
   "outputs": [],
   "source": [
    "# ux_3D['value'].shape is (255, 512, 512) instead of (256, 512, 512) because in the original code I wrote \n",
    "# double zslice = -L0/2+L0/2./Nslice;\n",
    "# for (int i=0; i<Nslice; i++) {\n",
    "#     zslice += L0/Nslice;\n",
    "#     sprintf (filename, \"./field/ux_t%g_slice%d\", t, i);\n",
    "#     sliceXY (filename,u.x,zslice,9);\n",
    "#     sprintf (filename, \"./field/uy_t%g_slice%d\", t, i);\n",
    "#     sliceXY (filename,u.y,zslice,9);\n",
    "#     sprintf (filename, \"./field/f_t%g_slice%d\", t, i);\n",
    "#     sliceXY (filename,f,zslice,9);\n",
    "# }\n",
    "# which messed up the indexing...\n",
    "# Notice how zslice += L0/Nslice is misplaced...\n",
    "\n",
    "ux_sub = ux_3D['value'][::2, :, :]"
   ]
  },
  {
   "cell_type": "code",
   "execution_count": 31,
   "id": "619fbd06",
   "metadata": {},
   "outputs": [],
   "source": [
    "# Example 3D xarray DataArray\n",
    "x = np.linspace(-np.pi, np.pi, 512, endpoint=False) + 2*np.pi/512/2\n",
    "y = np.linspace(0, 2*np.pi, 512, endpoint=False) + 2*np.pi/512/2\n",
    "z = np.linspace(-np.pi, np.pi, 128, endpoint=False) + 2*np.pi/128/2\n",
    "\n",
    "data = ux_3D['value'][::2, :, :]  # Example data\n",
    "da = xr.DataArray(data, dims=['z', 'x', 'y'], coords={'x': x, 'y': y, 'z': z})"
   ]
  },
  {
   "cell_type": "code",
   "execution_count": 33,
   "id": "06e3179e",
   "metadata": {},
   "outputs": [
    {
     "data": {
      "text/html": [
       "<div>\n",
       "<style scoped>\n",
       "    .dataframe tbody tr th:only-of-type {\n",
       "        vertical-align: middle;\n",
       "    }\n",
       "\n",
       "    .dataframe tbody tr th {\n",
       "        vertical-align: top;\n",
       "    }\n",
       "\n",
       "    .dataframe thead th {\n",
       "        text-align: right;\n",
       "    }\n",
       "</style>\n",
       "<table border=\"1\" class=\"dataframe\">\n",
       "  <thead>\n",
       "    <tr style=\"text-align: right;\">\n",
       "      <th></th>\n",
       "      <th>z</th>\n",
       "      <th>x</th>\n",
       "      <th>y</th>\n",
       "      <th>ux</th>\n",
       "    </tr>\n",
       "  </thead>\n",
       "  <tbody>\n",
       "    <tr>\n",
       "      <th>0</th>\n",
       "      <td>-3.117049</td>\n",
       "      <td>-3.135457</td>\n",
       "      <td>0.006136</td>\n",
       "      <td>0.0000</td>\n",
       "    </tr>\n",
       "    <tr>\n",
       "      <th>1</th>\n",
       "      <td>-3.117049</td>\n",
       "      <td>-3.135457</td>\n",
       "      <td>0.018408</td>\n",
       "      <td>0.0000</td>\n",
       "    </tr>\n",
       "    <tr>\n",
       "      <th>2</th>\n",
       "      <td>-3.117049</td>\n",
       "      <td>-3.135457</td>\n",
       "      <td>0.030680</td>\n",
       "      <td>0.0000</td>\n",
       "    </tr>\n",
       "    <tr>\n",
       "      <th>3</th>\n",
       "      <td>-3.117049</td>\n",
       "      <td>-3.135457</td>\n",
       "      <td>0.042951</td>\n",
       "      <td>0.0000</td>\n",
       "    </tr>\n",
       "    <tr>\n",
       "      <th>4</th>\n",
       "      <td>-3.117049</td>\n",
       "      <td>-3.135457</td>\n",
       "      <td>0.055223</td>\n",
       "      <td>0.0000</td>\n",
       "    </tr>\n",
       "    <tr>\n",
       "      <th>...</th>\n",
       "      <td>...</td>\n",
       "      <td>...</td>\n",
       "      <td>...</td>\n",
       "      <td>...</td>\n",
       "    </tr>\n",
       "    <tr>\n",
       "      <th>33554427</th>\n",
       "      <td>3.117049</td>\n",
       "      <td>3.135457</td>\n",
       "      <td>6.227962</td>\n",
       "      <td>5.3049</td>\n",
       "    </tr>\n",
       "    <tr>\n",
       "      <th>33554428</th>\n",
       "      <td>3.117049</td>\n",
       "      <td>3.135457</td>\n",
       "      <td>6.240234</td>\n",
       "      <td>5.3049</td>\n",
       "    </tr>\n",
       "    <tr>\n",
       "      <th>33554429</th>\n",
       "      <td>3.117049</td>\n",
       "      <td>3.135457</td>\n",
       "      <td>6.252506</td>\n",
       "      <td>5.3049</td>\n",
       "    </tr>\n",
       "    <tr>\n",
       "      <th>33554430</th>\n",
       "      <td>3.117049</td>\n",
       "      <td>3.135457</td>\n",
       "      <td>6.264778</td>\n",
       "      <td>5.3049</td>\n",
       "    </tr>\n",
       "    <tr>\n",
       "      <th>33554431</th>\n",
       "      <td>3.117049</td>\n",
       "      <td>3.135457</td>\n",
       "      <td>6.277049</td>\n",
       "      <td>5.3049</td>\n",
       "    </tr>\n",
       "  </tbody>\n",
       "</table>\n",
       "<p>33554432 rows × 4 columns</p>\n",
       "</div>"
      ],
      "text/plain": [
       "                 z         x         y      ux\n",
       "0        -3.117049 -3.135457  0.006136  0.0000\n",
       "1        -3.117049 -3.135457  0.018408  0.0000\n",
       "2        -3.117049 -3.135457  0.030680  0.0000\n",
       "3        -3.117049 -3.135457  0.042951  0.0000\n",
       "4        -3.117049 -3.135457  0.055223  0.0000\n",
       "...            ...       ...       ...     ...\n",
       "33554427  3.117049  3.135457  6.227962  5.3049\n",
       "33554428  3.117049  3.135457  6.240234  5.3049\n",
       "33554429  3.117049  3.135457  6.252506  5.3049\n",
       "33554430  3.117049  3.135457  6.264778  5.3049\n",
       "33554431  3.117049  3.135457  6.277049  5.3049\n",
       "\n",
       "[33554432 rows x 4 columns]"
      ]
     },
     "execution_count": 33,
     "metadata": {},
     "output_type": "execute_result"
    }
   ],
   "source": [
    "# Convert xarray DataArray to pandas DataFrame\n",
    "df = da.to_dataframe(name='ux').reset_index()\n",
    "\n",
    "# Save DataFrame to CSV in x, y, z, value format\n",
    "csv_filename = 'data_xyz_ux.csv'\n",
    "df.to_csv(csv_filename, index=False)"
   ]
  },
  {
   "cell_type": "code",
   "execution_count": 34,
   "id": "9e0061af",
   "metadata": {},
   "outputs": [
    {
     "data": {
      "text/plain": [
       "33554432"
      ]
     },
     "execution_count": 34,
     "metadata": {},
     "output_type": "execute_result"
    }
   ],
   "source": [
    "512*512*128"
   ]
  },
  {
   "cell_type": "code",
   "execution_count": 30,
   "id": "572f449c",
   "metadata": {},
   "outputs": [
    {
     "data": {
      "text/plain": [
       "<matplotlib.collections.QuadMesh at 0x15453a275540>"
      ]
     },
     "execution_count": 30,
     "metadata": {},
     "output_type": "execute_result"
    },
    {
     "data": {
      "image/png": "[encoded data removed]",
      "text/plain": [
       "<Figure size 432x288 with 2 Axes>"
      ]
     },
     "metadata": {
      "needs_background": "light"
     },
     "output_type": "display_data"
    }
   ],
   "source": [
    "data_array.sel(x=0, method='nearest').plot(x=\"z\",y=\"y\")"
   ]
  },
  {
   "cell_type": "code",
   "execution_count": 12,
   "id": "19433a9c",
   "metadata": {},
   "outputs": [],
   "source": [
    "x = np.linspace(-np.pi, np.pi, 512, endpoint=False) + 2*np.pi/512/2\n",
    "y = np.linspace(0, 2*np.pi, 512, endpoint=False) + 2*np.pi/512/2\n",
    "z = np.linspace(-np.pi, np.pi, 128, endpoint=False) + 2*np.pi/128/2"
   ]
  },
  {
   "cell_type": "code",
   "execution_count": null,
   "id": "70ce2857",
   "metadata": {},
   "outputs": [],
   "source": [
    "import os\n",
    "\n",
    "# Specify the path of the file\n",
    "file_path = '/path/to/your/file.ext'\n",
    "\n",
    "# Check if the file exists\n",
    "if os.path.exists(file_path):\n",
    "    print(f\"File '{file_path}' exists.\")\n",
    "else:\n",
    "    print(f\"File '{file_path}' does not exist.\")"
   ]
  }
 ],
 "metadata": {
  "kernelspec": {
   "display_name": "gp",
   "language": "python",
   "name": "gp"
  },
  "language_info": {
   "codemirror_mode": {
    "name": "ipython",
    "version": 3
   },
   "file_extension": ".py",
   "mimetype": "text/x-python",
   "name": "python",
   "nbconvert_exporter": "python",
   "pygments_lexer": "ipython3",
   "version": "3.10.4"
  }
 },
 "nbformat": 4,
 "nbformat_minor": 5
}
