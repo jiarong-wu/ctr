{
 "cells": [
  {
   "cell_type": "markdown",
   "id": "4709a71f",
   "metadata": {},
   "source": [
    "We share an instantaneous velocity field during precursor runs. This is in resolution of 128 * 512 * 512."
   ]
  },
  {
   "cell_type": "code",
   "execution_count": 7,
   "id": "55ae01f9",
   "metadata": {},
   "outputs": [],
   "source": [
    "from windwave.defs import Case, Interface2D\n",
    "import numpy as np\n",
    "from windwave.prepare import read_p, read_fields\n",
    "from windwave.phase import extract_phase\n",
    "import os\n",
    "from matplotlib import pyplot as plt\n",
    "import xarray as xr\n",
    "import pandas as pd\n",
    "from windwave.prepare import load_object\n",
    "\n",
    "%load_ext autoreload\n",
    "%autoreload 3"
   ]
  },
  {
   "cell_type": "code",
   "execution_count": 2,
   "id": "77478973",
   "metadata": {},
   "outputs": [],
   "source": [
    "case = Case(ustar=0.25, Retau=720, Bo=None, g=None, ak=0.2, LEVEL=10, emax=0.3, OUTLEVEL=9, PRECURSOR=True,\n",
    "                 working_dir='/projects/DEIKE/jiarongw/turbulence/', prefix='curved_fixREtau_precursor_')\n",
    "case.tstart = 53\n",
    "\n",
    "''' Time of choice '''\n",
    "tsimu = 60"
   ]
  },
  {
   "cell_type": "markdown",
   "id": "5b5a0ff9",
   "metadata": {},
   "source": [
    "Unfortunately for now I don't have uz_3D so need to diagnose that."
   ]
  },
  {
   "cell_type": "code",
   "execution_count": 3,
   "id": "8ee88f95",
   "metadata": {},
   "outputs": [
    {
     "name": "stdout",
     "output_type": "stream",
     "text": [
      "pickle restored!\n",
      "Writing to file uy_zxy_t60.csv...\n",
      "\n"
     ]
    }
   ],
   "source": [
    "ux_3D = {'name':'ux', 'value':[]}\n",
    "uy_3D = {'name':'uy', 'value':[]}\n",
    "# uz_3D = {'name':'uz', 'value':[]}\n",
    "\n",
    "# for field in (ux_3D, uy_3D):\n",
    "field = uy_3D\n",
    "    \n",
    "picklename = case.path + 'field/' + 'pickle_tiger/' + field['name'] +'_t%g' % tsimu +'.pkl'\n",
    "exists = os.path.exists(picklename)\n",
    "\n",
    "# If the pickle is there read in the pickles\n",
    "if exists:\n",
    "    field['value'] = load_object(picklename)\n",
    "    print('pickle restored!')\n",
    "\n",
    "x = np.linspace(-np.pi, np.pi, 512, endpoint=False) + 2*np.pi/512/2\n",
    "y = np.linspace(0, 2*np.pi, 512, endpoint=False) + 2*np.pi/512/2\n",
    "z = np.linspace(-np.pi, np.pi, 128, endpoint=False) + 2*np.pi/128/2\n",
    "\n",
    "data = field['value'][::2, :, :]  # Example data\n",
    "da = xr.DataArray(data, dims=['z', 'x', 'y'], coords={'x': x, 'y': y, 'z': z})\n",
    "\n",
    "# Convert xarray DataArray to pandas DataFrame\n",
    "df = da.to_dataframe(name='ux').reset_index()\n",
    "\n",
    "# Save DataFrame to CSV in x, y, z, value format\n",
    "csv_filename = field['name'] + '_zxy_t%g.csv' %tsimu\n",
    "print('Writing to file ' + csv_filename + '...\\n')\n",
    "df.to_csv(csv_filename, index=False)"
   ]
  },
  {
   "cell_type": "code",
   "execution_count": null,
   "id": "82764ebd",
   "metadata": {},
   "outputs": [],
   "source": [
    "ux_3D = {'name':'ux', 'value':[]}\n",
    "uy_3D = {'name':'uy', 'value':[]}\n",
    "# uz_3D = {'name':'uz', 'value':[]}\n",
    "\n",
    "for field in (ux_3D, uy_3D):\n",
    "    \n",
    "    picklename = case.path + 'field/' + 'pickle_tiger/' + field['name'] +'_t%g' % tsimu +'.pkl'\n",
    "    exists = os.path.exists(picklename)\n",
    "    \n",
    "    # If the pickle is there read in the pickles\n",
    "    if exists:\n",
    "        field['value'] = load_object(picklename)\n",
    "        print('pickle restored!')\n",
    "        \n",
    "    x = np.linspace(-np.pi, np.pi, 512, endpoint=False) + 2*np.pi/512/2\n",
    "    y = np.linspace(0, 2*np.pi, 512, endpoint=False) + 2*np.pi/512/2\n",
    "    z = np.linspace(-np.pi, np.pi, 128, endpoint=False) + 2*np.pi/128/2\n",
    "\n",
    "    data = field['value'][::2, :, :]  # Example data\n",
    "    da = xr.DataArray(data, dims=['z', 'x', 'y'], coords={'x': x, 'y': y, 'z': z})\n",
    "    \n",
    "    # Convert xarray DataArray to pandas DataFrame\n",
    "    df = da.to_dataframe(field['name']).reset_index()\n",
    "\n",
    "    # Save DataFrame to CSV in x, y, z, value format\n",
    "    csv_filename = field['name'] + '_zxy_t%g.csv' %tsimu\n",
    "    print('Writing to file ' + csv_filename + '...\\n')\n",
    "    df.to_csv(csv_filename, float_format='%.6f', index=False)"
   ]
  }
 ],
 "metadata": {
  "kernelspec": {
   "display_name": "ww",
   "language": "python",
   "name": "ww"
  },
  "language_info": {
   "codemirror_mode": {
    "name": "ipython",
    "version": 3
   },
   "file_extension": ".py",
   "mimetype": "text/x-python",
   "name": "python",
   "nbconvert_exporter": "python",
   "pygments_lexer": "ipython3",
   "version": "3.9.19"
  }
 },
 "nbformat": 4,
 "nbformat_minor": 5
}
