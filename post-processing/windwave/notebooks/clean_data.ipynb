{
 "cells": [
  {
   "cell_type": "markdown",
   "id": "15775b91-d3dd-47f0-adcb-9538e35d1b58",
   "metadata": {},
   "source": [
    "This notebook cleans the old slice data and assemble them into a xarray object and store as compressed netcdf."
   ]
  },
  {
   "cell_type": "code",
   "execution_count": 1,
   "id": "93668976-d38f-4cfa-9076-07dabea73543",
   "metadata": {},
   "outputs": [
    {
     "ename": "ModuleNotFoundError",
     "evalue": "No module named 'fio'",
     "output_type": "error",
     "traceback": [
      "\u001b[0;31m---------------------------------------------------------------------------\u001b[0m",
      "\u001b[0;31mModuleNotFoundError\u001b[0m                       Traceback (most recent call last)",
      "Cell \u001b[0;32mIn[1], line 1\u001b[0m\n\u001b[0;32m----> 1\u001b[0m \u001b[38;5;28;01mfrom\u001b[39;00m \u001b[38;5;21;01mwindwave\u001b[39;00m\u001b[38;5;21;01m.\u001b[39;00m\u001b[38;5;21;01mdefs\u001b[39;00m \u001b[38;5;28;01mimport\u001b[39;00m Case, Interface2D\n\u001b[1;32m      2\u001b[0m \u001b[38;5;28;01mimport\u001b[39;00m \u001b[38;5;21;01mnumpy\u001b[39;00m \u001b[38;5;28;01mas\u001b[39;00m \u001b[38;5;21;01mnp\u001b[39;00m\n\u001b[1;32m      3\u001b[0m \u001b[38;5;28;01mfrom\u001b[39;00m \u001b[38;5;21;01mwindwave\u001b[39;00m\u001b[38;5;21;01m.\u001b[39;00m\u001b[38;5;21;01mprepare\u001b[39;00m \u001b[38;5;28;01mimport\u001b[39;00m read_p, read_fields\n",
      "File \u001b[0;32m~/ctr/notebooks/windwave/windwave/defs.py:18\u001b[0m\n\u001b[1;32m     16\u001b[0m \u001b[38;5;124;03m\"\"\" Case \"\"\"\u001b[39;00m\n\u001b[1;32m     17\u001b[0m sys\u001b[38;5;241m.\u001b[39mpath\u001b[38;5;241m.\u001b[39mappend(\u001b[38;5;124m'\u001b[39m\u001b[38;5;124m/home/jiarong/research/postprocessing/jupyter_notebook/project_specific/windwave/\u001b[39m\u001b[38;5;124m'\u001b[39m)\n\u001b[0;32m---> 18\u001b[0m \u001b[38;5;28;01mfrom\u001b[39;00m \u001b[38;5;21;01mwindwave\u001b[39;00m\u001b[38;5;21;01m.\u001b[39;00m\u001b[38;5;21;01mhelper\u001b[39;00m \u001b[38;5;28;01mimport\u001b[39;00m RealWave\n\u001b[1;32m     20\u001b[0m \u001b[38;5;28;01mclass\u001b[39;00m \u001b[38;5;21;01mCase\u001b[39;00m():\n\u001b[1;32m     21\u001b[0m \u001b[38;5;250m    \u001b[39m\u001b[38;5;124;03m\"\"\"\u001b[39;00m\n\u001b[1;32m     22\u001b[0m \u001b[38;5;124;03m        Class for each case. Initialization takes in the metadata like Bo, Re, ak etc.\u001b[39;00m\n\u001b[1;32m     23\u001b[0m \u001b[38;5;124;03m        self.availt: The longest running time\u001b[39;00m\n\u001b[1;32m     24\u001b[0m \u001b[38;5;124;03m        self.path: Path of the case file\u001b[39;00m\n\u001b[1;32m     25\u001b[0m \u001b[38;5;124;03m    \"\"\"\u001b[39;00m\n",
      "File \u001b[0;32m~/ctr/notebooks/windwave/windwave/helper.py:5\u001b[0m\n\u001b[1;32m      3\u001b[0m \u001b[38;5;28;01mimport\u001b[39;00m \u001b[38;5;21;01msys\u001b[39;00m\n\u001b[1;32m      4\u001b[0m sys\u001b[38;5;241m.\u001b[39mpath\u001b[38;5;241m.\u001b[39mappend(\u001b[38;5;124m'\u001b[39m\u001b[38;5;124m../../functions/\u001b[39m\u001b[38;5;124m'\u001b[39m)\n\u001b[0;32m----> 5\u001b[0m \u001b[38;5;28;01mfrom\u001b[39;00m \u001b[38;5;21;01mfio\u001b[39;00m \u001b[38;5;28;01mimport\u001b[39;00m readin\n\u001b[1;32m      6\u001b[0m \u001b[38;5;28;01mfrom\u001b[39;00m \u001b[38;5;21;01mAmplitude\u001b[39;00m \u001b[38;5;28;01mimport\u001b[39;00m Amplitude\n\u001b[1;32m      8\u001b[0m \u001b[38;5;28;01mdef\u001b[39;00m \u001b[38;5;21mfrom_matrix\u001b[39m(pfile):\n",
      "\u001b[0;31mModuleNotFoundError\u001b[0m: No module named 'fio'"
     ]
    }
   ],
   "source": [
    "from windwave.defs import Case, Interface2D\n",
    "import numpy as np\n",
    "from windwave.prepare import read_p, read_fields\n",
    "from windwave.phase import extract_phase\n",
    "import os\n",
    "from matplotlib import pyplot as plt\n",
    "import xarray as xr\n",
    "import pandas as pd\n",
    "# from windwave.prepare import load_object\n",
    "\n",
    "%load_ext autoreload\n",
    "%autoreload 3"
   ]
  },
  {
   "cell_type": "code",
   "execution_count": null,
   "id": "d6b25552-9e0c-45ec-9b92-d00709fa84c7",
   "metadata": {},
   "outputs": [],
   "source": [
    "case_pre1 = Case(ustar=0.25, Retau=720, Bo=None, g=None, ak=0.2, LEVEL=10, emax=0.3, OUTLEVEL=9, PRECURSOR=True,\n",
    "                 working_dir='/projects/DEIKE/jiarongw/turbulence/', prefix='curved_fixREtau_precursor_')\n",
    "case_pre1.tstart = 53"
   ]
  },
  {
   "cell_type": "code",
   "execution_count": 9,
   "id": "a81e2631-f1d3-400f-a73a-d7ec19dc959b",
   "metadata": {},
   "outputs": [
    {
     "ename": "TypeError",
     "evalue": "__init__() got an unexpected keyword argument 'mu'",
     "output_type": "error",
     "traceback": [
      "\u001b[0;31m---------------------------------------------------------------------------\u001b[0m",
      "\u001b[0;31mTypeError\u001b[0m                                 Traceback (most recent call last)",
      "Cell \u001b[0;32mIn[9], line 5\u001b[0m\n\u001b[1;32m      1\u001b[0m \u001b[38;5;66;03m# case7 = Case(ustar=0.25, Retau=720, Bo=200, g=1, ak=0.15, LEVEL=10, emax=0.3, alterMU=16, NOMATCH=True, \u001b[39;00m\n\u001b[1;32m      2\u001b[0m \u001b[38;5;66;03m#              PRINTWAVE=True, OUTLEVEL=9, working_dir='/home/ctrsp-2024/jiarongw/outputs/oldruns/', prefix='curved_fixREtau_boundary_')\u001b[39;00m\n\u001b[1;32m      3\u001b[0m \u001b[38;5;66;03m# case7.tstart = 43\u001b[39;00m\n\u001b[0;32m----> 5\u001b[0m case \u001b[38;5;241m=\u001b[39m \u001b[43mCase\u001b[49m\u001b[43m(\u001b[49m\u001b[43mustar\u001b[49m\u001b[38;5;241;43m=\u001b[39;49m\u001b[38;5;241;43m0.25\u001b[39;49m\u001b[43m,\u001b[49m\u001b[43m \u001b[49m\u001b[43mRetau\u001b[49m\u001b[38;5;241;43m=\u001b[39;49m\u001b[38;5;241;43m720\u001b[39;49m\u001b[43m,\u001b[49m\u001b[43m \u001b[49m\u001b[43mBo\u001b[49m\u001b[38;5;241;43m=\u001b[39;49m\u001b[38;5;241;43m200\u001b[39;49m\u001b[43m,\u001b[49m\u001b[43m \u001b[49m\u001b[43mg\u001b[49m\u001b[38;5;241;43m=\u001b[39;49m\u001b[38;5;241;43m1\u001b[39;49m\u001b[43m,\u001b[49m\u001b[43m \u001b[49m\u001b[43mak\u001b[49m\u001b[38;5;241;43m=\u001b[39;49m\u001b[38;5;241;43m0.15\u001b[39;49m\u001b[43m,\u001b[49m\u001b[43m \u001b[49m\u001b[43mLEVEL\u001b[49m\u001b[38;5;241;43m=\u001b[39;49m\u001b[38;5;241;43m10\u001b[39;49m\u001b[43m,\u001b[49m\u001b[43m \u001b[49m\u001b[43memax\u001b[49m\u001b[38;5;241;43m=\u001b[39;49m\u001b[38;5;241;43m0.3\u001b[39;49m\u001b[43m,\u001b[49m\u001b[43m \u001b[49m\u001b[43malterMU\u001b[49m\u001b[38;5;241;43m=\u001b[39;49m\u001b[38;5;241;43m16\u001b[39;49m\u001b[43m,\u001b[49m\u001b[43m \u001b[49m\u001b[43mNOMATCH\u001b[49m\u001b[38;5;241;43m=\u001b[39;49m\u001b[38;5;28;43;01mTrue\u001b[39;49;00m\u001b[43m,\u001b[49m\u001b[43m \u001b[49m\n\u001b[1;32m      6\u001b[0m \u001b[43m             \u001b[49m\u001b[43mPRINTWAVE\u001b[49m\u001b[38;5;241;43m=\u001b[39;49m\u001b[38;5;28;43;01mTrue\u001b[39;49;00m\u001b[43m,\u001b[49m\u001b[43m \u001b[49m\u001b[43mOUTLEVEL\u001b[49m\u001b[38;5;241;43m=\u001b[39;49m\u001b[38;5;241;43m9\u001b[39;49m\u001b[43m,\u001b[49m\u001b[43m \u001b[49m\u001b[43mworking_dir\u001b[49m\u001b[38;5;241;43m=\u001b[39;49m\u001b[38;5;124;43m'\u001b[39;49m\u001b[38;5;124;43m/home/ctrsp-2024/jiarongw/outputs/oldruns/\u001b[39;49m\u001b[38;5;124;43m'\u001b[39;49m\u001b[43m,\u001b[49m\u001b[43m \u001b[49m\u001b[43mprefix\u001b[49m\u001b[38;5;241;43m=\u001b[39;49m\u001b[38;5;124;43m'\u001b[39;49m\u001b[38;5;124;43mcurved_fixREtau_boundary_\u001b[39;49m\u001b[38;5;124;43m'\u001b[39;49m\u001b[43m)\u001b[49m\n\u001b[1;32m      7\u001b[0m \u001b[38;5;28;01mcase\u001b[39;00m\u001b[38;5;241m.\u001b[39mtstart \u001b[38;5;241m=\u001b[39m \u001b[38;5;241m44\u001b[39m\n\u001b[1;32m      9\u001b[0m \u001b[38;5;28;01mcase\u001b[39;00m\u001b[38;5;241m.\u001b[39mtsimu \u001b[38;5;241m=\u001b[39m np\u001b[38;5;241m.\u001b[39marange(\u001b[38;5;241m44.1\u001b[39m,\u001b[38;5;241m60\u001b[39m,\u001b[38;5;241m0.1\u001b[39m)\n",
      "File \u001b[0;32m~/ctr/notebooks/windwave/windwave/defs.py:53\u001b[0m, in \u001b[0;36mCase.__init__\u001b[0;34m(self, ustar, Retau, Bo, g, ak, LEVEL, emax, alterMU, L0, k, h, OUTLEVEL, working_dir, prefix, postfix, PRINTWAVE, NOMATCH, PRECURSOR)\u001b[0m\n\u001b[1;32m     50\u001b[0m     \u001b[38;5;28mself\u001b[39m\u001b[38;5;241m.\u001b[39mpath \u001b[38;5;241m=\u001b[39m working_dir \u001b[38;5;241m+\u001b[39m prefix \u001b[38;5;241m+\u001b[39m \u001b[38;5;124m'\u001b[39m\u001b[38;5;124mREtau\u001b[39m\u001b[38;5;132;01m%g\u001b[39;00m\u001b[38;5;124m_BO\u001b[39m\u001b[38;5;132;01m%g\u001b[39;00m\u001b[38;5;124m_g\u001b[39m\u001b[38;5;132;01m%g\u001b[39;00m\u001b[38;5;124m_ak\u001b[39m\u001b[38;5;132;01m%g\u001b[39;00m\u001b[38;5;124m_LEVEL\u001b[39m\u001b[38;5;132;01m%g\u001b[39;00m\u001b[38;5;124m_emax\u001b[39m\u001b[38;5;132;01m%g\u001b[39;00m\u001b[38;5;124m'\u001b[39m \u001b[38;5;241m%\u001b[39m(\u001b[38;5;28mself\u001b[39m\u001b[38;5;241m.\u001b[39mRetau,\u001b[38;5;28mself\u001b[39m\u001b[38;5;241m.\u001b[39mBo,\u001b[38;5;28mself\u001b[39m\u001b[38;5;241m.\u001b[39mg,\u001b[38;5;28mself\u001b[39m\u001b[38;5;241m.\u001b[39mak,\u001b[38;5;28mself\u001b[39m\u001b[38;5;241m.\u001b[39mLEVEL,\u001b[38;5;28mself\u001b[39m\u001b[38;5;241m.\u001b[39memax) \u001b[38;5;241m+\u001b[39m postfix\n\u001b[1;32m     51\u001b[0m \u001b[38;5;66;03m# Run wave helper function to compute wave related info0\u001b[39;00m\n\u001b[1;32m     52\u001b[0m \u001b[38;5;66;03m# Notice that this depends on the definition of the wave in the specific set of cases\u001b[39;00m\n\u001b[0;32m---> 53\u001b[0m \u001b[38;5;28mself\u001b[39m\u001b[38;5;241m.\u001b[39mwave \u001b[38;5;241m=\u001b[39m \u001b[43mRealWave\u001b[49m\u001b[43m(\u001b[49m\u001b[43mg\u001b[49m\u001b[38;5;241;43m=\u001b[39;49m\u001b[38;5;28;43mself\u001b[39;49m\u001b[38;5;241;43m.\u001b[39;49m\u001b[43mg\u001b[49m\u001b[43m,\u001b[49m\u001b[43m \u001b[49m\u001b[43msigma\u001b[49m\u001b[38;5;241;43m=\u001b[39;49m\u001b[38;5;28;43mself\u001b[39;49m\u001b[38;5;241;43m.\u001b[39;49m\u001b[43msigma\u001b[49m\u001b[43m,\u001b[49m\u001b[43m \u001b[49m\u001b[43mrho\u001b[49m\u001b[38;5;241;43m=\u001b[39;49m\u001b[38;5;28;43mself\u001b[39;49m\u001b[38;5;241;43m.\u001b[39;49m\u001b[43mrho1\u001b[49m\u001b[43m,\u001b[49m\u001b[43m \u001b[49m\u001b[43mrho_air\u001b[49m\u001b[38;5;241;43m=\u001b[39;49m\u001b[38;5;28;43mself\u001b[39;49m\u001b[38;5;241;43m.\u001b[39;49m\u001b[43mrho2\u001b[49m\u001b[43m,\u001b[49m\u001b[43m \u001b[49m\u001b[43mmu\u001b[49m\u001b[43m \u001b[49m\u001b[38;5;241;43m=\u001b[39;49m\u001b[43m \u001b[49m\u001b[38;5;28;43mself\u001b[39;49m\u001b[38;5;241;43m.\u001b[39;49m\u001b[43mmu1\u001b[49m\u001b[43m,\u001b[49m\u001b[43m \u001b[49m\u001b[43mmu_air\u001b[49m\u001b[43m \u001b[49m\u001b[38;5;241;43m=\u001b[39;49m\u001b[43m \u001b[49m\u001b[38;5;28;43mself\u001b[39;49m\u001b[38;5;241;43m.\u001b[39;49m\u001b[43mmu2\u001b[49m\u001b[43m)\u001b[49m\n\u001b[1;32m     54\u001b[0m \u001b[38;5;28mself\u001b[39m\u001b[38;5;241m.\u001b[39mwave\u001b[38;5;241m.\u001b[39mk2omega(\u001b[38;5;28mself\u001b[39m\u001b[38;5;241m.\u001b[39mk)       \n\u001b[1;32m     55\u001b[0m \u001b[38;5;66;03m# Print out wave info; to double check, print the message file\u001b[39;00m\n",
      "\u001b[0;31mTypeError\u001b[0m: __init__() got an unexpected keyword argument 'mu'"
     ]
    }
   ],
   "source": [
    "\n",
    "# case7 = Case(ustar=0.25, Retau=720, Bo=200, g=1, ak=0.15, LEVEL=10, emax=0.3, alterMU=16, NOMATCH=True, \n",
    "#              PRINTWAVE=True, OUTLEVEL=9, working_dir='/home/ctrsp-2024/jiarongw/outputs/oldruns/', prefix='curved_fixREtau_boundary_')\n",
    "# case7.tstart = 43\n",
    "\n",
    "case = Case(ustar=0.25, Retau=720, Bo=200, g=1, ak=0.15, LEVEL=10, emax=0.3, alterMU=16, NOMATCH=True, \n",
    "             PRINTWAVE=True, OUTLEVEL=9, working_dir='/home/ctrsp-2024/jiarongw/outputs/oldruns/', prefix='curved_fixREtau_boundary_')\n",
    "case.tstart = 44\n",
    "\n",
    "case.tsimu = np.arange(44.1,60,0.1)\n",
    "extract_phase(case, case.tsimu)\n",
    "case.field_t = np.arange(44.5,60,0.5) - case.tstart\n",
    "read_fields(case)"
   ]
  },
  {
   "cell_type": "code",
   "execution_count": null,
   "id": "34e884c1-a9f2-45b5-b71c-0998fb09e0b6",
   "metadata": {},
   "outputs": [],
   "source": [
    "\"\"\"NOTICE: to accomodate different pickle versions\"\"\"\n",
    "from ww.prepare import load_object\n",
    "\n",
    "tsimu = 54.5\n",
    "\n",
    "ux_3D = {'name':'ux', 'value':[]}\n",
    "uy_3D = {'name':'uy', 'value':[]}\n",
    "# uz_3D = {'name':'uz', 'value':[]} # Alas we didn't save uz_3D \n",
    "# f_3D = {'name':'f', 'value':[]}\n",
    "pair_3D = {'name':'pair', 'value':[]}\n",
    "\n",
    "da_list = []\n",
    "for field in (ux_3D, uy_3D, pair_3D):\n",
    "    \n",
    "    picklename = case.path + 'field/' + 'pickle_tiger/' + field['name'] +'_t%g' % tsimu +'.pkl'\n",
    "    exists = os.path.exists(picklename)\n",
    "    \n",
    "    # If the pickle is there read in the pickles\n",
    "    if exists:\n",
    "        field['value'] = load_object(picklename)\n",
    "        print('pickle restored!')\n",
    "    \n",
    "    x = np.linspace(-np.pi, np.pi, 512, endpoint=False) + 2*np.pi/512/2\n",
    "    y = np.linspace(0, 2*np.pi, 512, endpoint=False) + 2*np.pi/512/2\n",
    "    z = np.linspace(-np.pi, np.pi, 128, endpoint=False) + 2*np.pi/128/2\n",
    "    \n",
    "    data = field['value'][::2, :, :]  # Saved 255 slices but only take half of it 128 slices\n",
    "    da = xr.DataArray(data, dims=['z', 'x', 'y'], coords={'x': x, 'y': y, 'z': z})\n",
    "    field['da'] = da\n",
    "    \n",
    "# Convert xarray DataArray to pandas DataFrame\n",
    "# df = da.to_dataframe(name='ux').reset_index()"
   ]
  }
 ],
 "metadata": {
  "kernelspec": {
   "display_name": "ww",
   "language": "python",
   "name": "ww"
  },
  "language_info": {
   "codemirror_mode": {
    "name": "ipython",
    "version": 3
   },
   "file_extension": ".py",
   "mimetype": "text/x-python",
   "name": "python",
   "nbconvert_exporter": "python",
   "pygments_lexer": "ipython3",
   "version": "3.9.19"
  }
 },
 "nbformat": 4,
 "nbformat_minor": 5
}
