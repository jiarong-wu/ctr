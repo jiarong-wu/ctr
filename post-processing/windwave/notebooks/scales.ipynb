{
 "cells": [
  {
   "cell_type": "code",
   "execution_count": null,
   "id": "24e8d7b1-dd6d-4629-8d05-16ab77ec4ba9",
   "metadata": {},
   "outputs": [],
   "source": [
    "import numpy as np\n",
    "from matplotlib import pyplot as plt"
   ]
  },
  {
   "cell_type": "markdown",
   "id": "eaf9d986",
   "metadata": {},
   "source": [
    "Computing some scales."
   ]
  },
  {
   "cell_type": "code",
   "execution_count": 6,
   "id": "01266515-741e-4a11-b4c0-624141e54945",
   "metadata": {},
   "outputs": [
    {
     "name": "stdout",
     "output_type": "stream",
     "text": [
      "0.007337757371082759\n",
      "0.029351029484331034\n"
     ]
    }
   ],
   "source": [
    "##### Turbulence ######\n",
    "l_nu = (2*np.pi-1)/720\n",
    "t_nu = l_nu/0.25\n",
    "print(l_nu)\n",
    "print(t_nu)"
   ]
  },
  {
   "cell_type": "code",
   "execution_count": 17,
   "id": "ee321271-e415-4249-9037-a812ee01713b",
   "metadata": {},
   "outputs": [
    {
     "name": "stdout",
     "output_type": "stream",
     "text": [
      "214.07035519942656 107.03517759971328\n",
      "214.07035519942656 53.51758879985664\n",
      "214.07035519942656 26.75879439992832\n"
     ]
    }
   ],
   "source": [
    "####### Wave #######\n",
    "def wave(g):\n",
    "    k = 4\n",
    "    wl = 2*np.pi/k\n",
    "    omega = (g*k)**0.5\n",
    "    period = 2*np.pi/omega\n",
    "    return wl, period\n",
    "\n",
    "l_nu = (2*np.pi-1)/720\n",
    "t_nu = l_nu/0.25\n",
    "\n",
    "for g in (1,4,16):\n",
    "    wl, wp = wave(g)\n",
    "    print(wl/l_nu, wp/t_nu)"
   ]
  },
  {
   "cell_type": "code",
   "execution_count": 15,
   "id": "8045c217-8d4a-4feb-ad2e-93a50cb82642",
   "metadata": {},
   "outputs": [
    {
     "data": {
      "text/plain": [
       "214.07035519942656"
      ]
     },
     "execution_count": 15,
     "metadata": {},
     "output_type": "execute_result"
    }
   ],
   "source": [
    "1.5707963267948966/0.007337757371082759"
   ]
  },
  {
   "cell_type": "markdown",
   "id": "6bead7d5",
   "metadata": {},
   "source": [
    "Draw an illustration of the NWP forcing profile."
   ]
  },
  {
   "cell_type": "code",
   "execution_count": null,
   "id": "bace4e3d",
   "metadata": {},
   "outputs": [],
   "source": [
    "fig = plt.figure(figsize=[2,6], dpi=200)\n",
    "Ha = 2*np.pi - 1\n",
    "tau = 0.25**2\n",
    "z1 = np.linspace(Ha/2,Ha,100)\n",
    "z2 = np.linspace(0,Ha/2,100)\n",
    "\n",
    "f = 4*tau * (Ha - 2*z)**2 * (5*Ha - 4*z) / Ha**4\n",
    "\n",
    "plt.plot(f,z1,c='k')\n",
    "plt.plot(z2*0,z2,c='k')\n",
    "\n",
    "fig.savefig('forcing.pdf')"
   ]
  }
 ],
 "metadata": {
  "kernelspec": {
   "display_name": "mlflux",
   "language": "python",
   "name": "mlflux"
  },
  "language_info": {
   "codemirror_mode": {
    "name": "ipython",
    "version": 3
   },
   "file_extension": ".py",
   "mimetype": "text/x-python",
   "name": "python",
   "nbconvert_exporter": "python",
   "pygments_lexer": "ipython3",
   "version": "3.11.5"
  }
 },
 "nbformat": 4,
 "nbformat_minor": 5
}
