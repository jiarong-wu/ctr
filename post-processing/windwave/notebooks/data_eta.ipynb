{
 "cells": [
  {
   "cell_type": "code",
   "execution_count": 4,
   "id": "760c83d7-00ae-4458-9327-a9927a153028",
   "metadata": {},
   "outputs": [
    {
     "name": "stdout",
     "output_type": "stream",
     "text": [
      "The autoreload extension is already loaded. To reload it, use:\n",
      "  %reload_ext autoreload\n"
     ]
    }
   ],
   "source": [
    "from windwave.fio import read_eta, compute_phase\n",
    "import numpy as np\n",
    "import xarray as xr\n",
    "from scipy.interpolate import griddata\n",
    "%load_ext autoreload\n",
    "%autoreload 3"
   ]
  },
  {
   "cell_type": "code",
   "execution_count": 5,
   "id": "8a88bdc2-268f-4751-89ae-3d222590bbcd",
   "metadata": {},
   "outputs": [
    {
     "name": "stderr",
     "output_type": "stream",
     "text": [
      "/home/ctrsp-2024/jiarongw/ctr/post-processing/windwave/windwave/fio.py:56: DtypeWarning: Columns (0,1,2,3) have mixed types. Specify dtype option on import or set low_memory=False.\n",
      "  snapshot = pd.read_table(filename, delimiter = ',')\n",
      "/home/ctrsp-2024/jiarongw/ctr/post-processing/windwave/windwave/fio.py:56: DtypeWarning: Columns (0,1,2,3) have mixed types. Specify dtype option on import or set low_memory=False.\n",
      "  snapshot = pd.read_table(filename, delimiter = ',')\n",
      "/home/ctrsp-2024/jiarongw/ctr/post-processing/windwave/windwave/fio.py:56: DtypeWarning: Columns (0,1,2,3) have mixed types. Specify dtype option on import or set low_memory=False.\n",
      "  snapshot = pd.read_table(filename, delimiter = ',')\n",
      "/home/ctrsp-2024/jiarongw/ctr/post-processing/windwave/windwave/fio.py:56: DtypeWarning: Columns (0,1,2,3) have mixed types. Specify dtype option on import or set low_memory=False.\n",
      "  snapshot = pd.read_table(filename, delimiter = ',')\n"
     ]
    }
   ],
   "source": [
    "path = '/home/ctrsp-2024/jiarongw/outputs/CU2/'\n",
    "times = np.arange(40,52,0.1)\n",
    "start_time = 40\n",
    "field = xr.load_dataset(f'{path}span_aver.nc')\n",
    "\n",
    "xtile, ztile = np.meshgrid(field.x.values, field.x.values)\n",
    "\n",
    "eta_t = []\n",
    "t_t = []\n",
    "\n",
    "for t in field.t:\n",
    "    if t > start_time:\n",
    "        snapshot = read_eta(t, path)\n",
    "        eta = griddata((snapshot.x, snapshot.z), snapshot.pos, (xtile, ztile), method='linear')\n",
    "        eta_t.append(eta)\n",
    "        t_t.append(t)"
   ]
  },
  {
   "cell_type": "code",
   "execution_count": null,
   "id": "757d95c0-8257-4c2c-8c1a-0be5cfd1514c",
   "metadata": {},
   "outputs": [],
   "source": [
    "ds = xr.Dataset({'eta': (['t','x','z'], np.array(eta_t)}, \n",
    "                coords={'t':np.array(t_t), 'x':field.x.values, 'z':field.x.values})\n",
    "\n",
    "# Compute phase and store as new variable (1D)\n",
    "# Make this compatible with multiple time\n",
    "\n",
    "# eta_1D = ds['eta'].mean(dim='z') - ds['eta'].mean(dim=['z','x'])\n",
    "# ds['phase'] = (('x'), compute_phase(eta_1D))\n",
    "\n",
    "# Add a time dimension and metadata and save to netcdf\n",
    "# ds = ds.expand_dims({'t': np.float64([tsimu-case.tstart])})\n",
    "# ds = ds.assign_attrs(\n",
    "#     ustar=case.ustar, Retau=case.Retau, Bo=case.Bo, g=case.g, \n",
    "#     ak=case.ak, LEVEL=case.LEVEL, emax=case.emax, alterMU=case.alterMU, \n",
    "#     folder=case.path, tstart=case.tstart\n",
    "# )"
   ]
  }
 ],
 "metadata": {
  "kernelspec": {
   "display_name": "ww",
   "language": "python",
   "name": "ww"
  },
  "language_info": {
   "codemirror_mode": {
    "name": "ipython",
    "version": 3
   },
   "file_extension": ".py",
   "mimetype": "text/x-python",
   "name": "python",
   "nbconvert_exporter": "python",
   "pygments_lexer": "ipython3",
   "version": "3.9.19"
  }
 },
 "nbformat": 4,
 "nbformat_minor": 5
}
